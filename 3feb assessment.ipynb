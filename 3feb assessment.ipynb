{
 "cells": [
  {
   "cell_type": "code",
   "execution_count": null,
   "id": "2d92f4e4-c878-445f-a07c-358cffa20f30",
   "metadata": {},
   "outputs": [],
   "source": [
    "Q1. In Python, the keyword used to create a function is def. Here's an example function that returns a list of odd numbers in the range of 1 to 25:"
   ]
  },
  {
   "cell_type": "code",
   "execution_count": null,
   "id": "28bcfe6b-282d-4289-8faa-35b269b1df9e",
   "metadata": {},
   "outputs": [],
   "source": [
    "Answer-1. In Python, the keyword used to create a function is def.\n",
    "Here's an example function that returns a list of odd numbers in the range of 1 to 25:\n",
    "def odd_numbers():\n",
    "    return [i for i in range(1, 26) if i % 2 != 0]"
   ]
  },
  {
   "cell_type": "code",
   "execution_count": null,
   "id": "251a2c80-e685-4234-bda4-340e909abe78",
   "metadata": {},
   "outputs": [],
   "source": [
    "Q2. Q2. Why *args and **kwargs is used in some functions? Create a function each for *args and **kwargs\n",
    "to demonstrate their use."
   ]
  },
  {
   "cell_type": "code",
   "execution_count": null,
   "id": "0773b3e8-6b22-4efc-8a7a-bacd5e0dbe14",
   "metadata": {},
   "outputs": [],
   "source": [
    "Answer-2. *args and **kwargs are special syntax in Python that allows a function to accept a variable number of arguments.\n",
    "\n",
    "*args is used to pass a variable-length argument list to a function. It allows you to pass any number of positional arguments to a function. Inside the function, *args is treated as a tuple.\n",
    "Here's an example of a function that accepts *args:\n",
    "def my_function(*args):\n",
    "    for arg in args:\n",
    "        print(arg)\n",
    "\n",
    "In this function, we use a for loop to print out each argument in the args tuple. We can call this function with any number of arguments, like this:\n",
    "    my_function(1, 2, 3)\n",
    "my_function('apple', 'banana', 'cherry', 'date')\n",
    "\n",
    "**kwargs is used to pass a variable-length keyword argument list to a function. It allows you to pass any number of keyword arguments to a function. Inside the function, **kwargs is treated as a dictionary.\n",
    "\n",
    "Here's an example of a function that accepts **kwargs:\n",
    "def my_function(**kwargs):\n",
    "    for key, value in kwargs.items():\n",
    "        print(key, value)\n",
    "\n",
    "        "
   ]
  },
  {
   "cell_type": "code",
   "execution_count": null,
   "id": "00778590-7e9f-414b-a3f5-1ccd1fc58a16",
   "metadata": {},
   "outputs": [],
   "source": [
    "Q3.What is an iterator in python? Name the method used to initialise the iterator object and the method\n",
    "used for iteration. Use these methods to print the first five elements of the given list [2, 4, 6, 8, 10, 12, 14,\n",
    "16, 18, 20]."
   ]
  },
  {
   "cell_type": "code",
   "execution_count": null,
   "id": "1f1c36af-57a3-4b2e-8ae4-4e3af4098aeb",
   "metadata": {},
   "outputs": [],
   "source": [
    "Answer-3. In Python, an iterator is an object that allows you to iterate over a collection of elements, one at a time, without having to know the details of the collection's implementation. Iterators are used to traverse sequences like lists, strings, and tuples.\n",
    "To create an iterator object in Python, you can use the iter() method. This method takes a collection (such as a list) as its argument and returns an iterator object.\n",
    "\n",
    "To iterate over the elements of an iterator object, you can use the next() method. This method returns the next element in the sequence. When there are no more elements, it raises a StopIteration exception.\n",
    "\n",
    "Here's an example of how to create an iterator object and iterate over its elements to print the first five elements of the given list [2, 4, 6, 8, 10, 12, 14, 16, 18, 20]:\n",
    "my_list = [2, 4, 6, 8, 10, 12, 14, 16, 18, 20]\n",
    "\n",
    "# Create an iterator object\n",
    "my_iterator = iter(my_list)\n",
    "\n",
    "# Use the next() method to iterate over the elements\n",
    "print(next(my_iterator))\n",
    "print(next(my_iterator))\n",
    "print(next(my_iterator))\n",
    "print(next(my_iterator))\n",
    "print(next(my_iterator))\n",
    "\n",
    "Output:\n",
    "2\n",
    "4\n",
    "6\n",
    "8\n",
    "10\n",
    "In this example, we use the iter() method to create an iterator object my_iterator for the given list my_list. We then use the next() method to iterate over the first five elements of the list and print them to the console."
   ]
  },
  {
   "cell_type": "code",
   "execution_count": null,
   "id": "4bbb77a0-5951-4f47-b339-093b46ec8b8a",
   "metadata": {},
   "outputs": [],
   "source": [
    "Q4. What is a generator function in python? Why yield keyword is used? Give an example of a generator\n",
    "function."
   ]
  },
  {
   "cell_type": "code",
   "execution_count": null,
   "id": "19893abc-1867-4df8-b3e2-989679d8ede9",
   "metadata": {},
   "outputs": [],
   "source": [
    "Answer-4. In Python, a generator function is a special type of function that generates an iterable sequence of values on the fly, as opposed to returning them all at once. Generator functions use the yield keyword instead of the return keyword to produce a series of values.\n",
    "\n",
    "The yield keyword is used to temporarily suspend the execution of a generator function and yield a value to the caller. When the generator function is called again, it resumes execution from where it left off and generates the next value in the sequence.\n",
    "\n",
    "Here's an example of a simple generator function that generates the first n even numbers:\n",
    "\n",
    "def even_numbers(n):\n",
    "    i = 0\n",
    "    while i < n:\n",
    "        yield i * 2\n",
    "        i += 1\n"
   ]
  },
  {
   "cell_type": "code",
   "execution_count": null,
   "id": "82283dba-659d-4f0a-bd90-d9e0cbabc524",
   "metadata": {},
   "outputs": [],
   "source": [
    "Q5. Create a generator function for prime numbers less than 1000. Use the next() method to print the\n",
    "first 20 prime numbers."
   ]
  },
  {
   "cell_type": "code",
   "execution_count": null,
   "id": "c36b06a4-6ddb-4d15-a7e7-efc7562e352b",
   "metadata": {},
   "outputs": [],
   "source": [
    "Answer-5. Here's an example of a generator function that generates prime numbers less than 1000:\n",
    "\n",
    "def prime_numbers():\n",
    "    num = 2\n",
    "    while num < 1000:\n",
    "        is_prime = True\n",
    "        for i in range(2, num):\n",
    "            if num % i == 0:\n",
    "                is_prime = False\n",
    "                break\n",
    "        if is_prime:\n",
    "            yield num\n",
    "        num += 1"
   ]
  },
  {
   "cell_type": "code",
   "execution_count": null,
   "id": "bb337371-9453-4dbb-8b6e-e2d77d926f81",
   "metadata": {},
   "outputs": [],
   "source": [
    "Q6. Write a python program to print the first 10 Fibonacci numbers using a while loop."
   ]
  },
  {
   "cell_type": "code",
   "execution_count": null,
   "id": "d87f4062-268d-4a75-beb2-488f2b747e18",
   "metadata": {},
   "outputs": [],
   "source": [
    "Answer-6. Here's an example of a Python program that uses a while loop to print the first 10 Fibonacci numbers:\n",
    "a, b = 0, 1\n",
    "count = 0\n",
    "\n",
    "while count < 10:\n",
    "    print(a, end=\" \")\n",
    "    nth = a + b\n",
    "    a = b\n",
    "    b = nth\n",
    "    count += 1\n",
    "    \n",
    "Output:\n",
    "    0 1 1 2 3 5 8 13 21 34\n"
   ]
  },
  {
   "cell_type": "code",
   "execution_count": null,
   "id": "e49420fd-c745-44c9-893c-0b61b77db4f0",
   "metadata": {},
   "outputs": [],
   "source": [
    "Q7. Write a List Comprehension to iterate through the given string: ‘pwskills’.\n",
    "Expected output: ['p', 'w', 's', 'k', 'i', 'l', 'l', 's']"
   ]
  },
  {
   "cell_type": "code",
   "execution_count": null,
   "id": "99db5e0b-6296-468c-bf70-9fab734220b6",
   "metadata": {},
   "outputs": [],
   "source": [
    "Answer-7. Here's an example of a list comprehension that iterates through the given string 'pwskills' and returns a list containing only the unique characters:\n",
    "my_string = 'pwskills'\n",
    "my_list = [char for char in my_string if my_string.count(char) == 1]\n",
    "\n",
    "print(my_list)\n",
    "\n",
    "\n",
    "Output:\n",
    "    \n",
    "['p', 'w', 's', 'k', 'i', 'l']\n",
    "\n"
   ]
  },
  {
   "cell_type": "code",
   "execution_count": null,
   "id": "e40e9bf4-0863-45ac-b181-964bc3e5b9d7",
   "metadata": {},
   "outputs": [],
   "source": [
    "Q8. Write a python program to check whether a given number is Palindrome or not using a while loop."
   ]
  },
  {
   "cell_type": "code",
   "execution_count": null,
   "id": "ca75c8f3-d604-43c6-9f76-2a341c902e63",
   "metadata": {},
   "outputs": [],
   "source": [
    "Answer-8.Sure, here's a Python program to check if a given number is a Palindrome or not using a while loop:\n",
    "\n",
    "number = int(input(\"Enter a number: \"))   # Taking input from user\n",
    "\n",
    "temp = number   # Making a copy of the given number\n",
    "\n",
    "reverse = 0   # Initializing reverse variable to 0\n",
    "\n",
    "while(temp > 0):\n",
    "    remainder = temp % 10   # Finding the remainder\n",
    "    reverse = (reverse * 10) + remainder   # Adding the remainder to reverse\n",
    "    temp = temp // 10   # Updating the quotient\n",
    "\n",
    "if(number == reverse):\n",
    "    print(\"The given number is a Palindrome\")\n",
    "else:\n",
    "    print(\"The given number is not a Palindrome\")\n"
   ]
  },
  {
   "cell_type": "code",
   "execution_count": null,
   "id": "e2f6319e-d9b3-4a7f-9d17-61c27e7e5be7",
   "metadata": {},
   "outputs": [],
   "source": [
    "Q9. Write a code to print odd numbers from 1 to 100 using list comprehension.\n",
    "Note: Use a list comprehension to create a list from 1 to 100 and use another List comprehension to filter\n",
    "out odd numbers."
   ]
  },
  {
   "cell_type": "code",
   "execution_count": null,
   "id": "15626727-265a-42ba-8dd7-3b87422a3e57",
   "metadata": {},
   "outputs": [],
   "source": [
    "Answer-9.Sure! Here's a Python code that uses a list comprehension to print odd numbers from 1 to 100:\n",
    "\n",
    "odd_numbers = [num for num in range(1, 101) if num % 2 != 0]\n",
    "print(odd_numbers)\n",
    "In the above code, we create a list of numbers from 1 to 100 using a list comprehension with range(1, 101). We then filter out the even numbers by using a conditional statement if num % 2 != 0 which checks if the number is not divisible by 2.\n",
    "\n",
    "This will give us a list of odd numbers between 1 and 100, which we store in the variable odd_numbers. Finally, we print the list using the print() function."
   ]
  }
 ],
 "metadata": {
  "kernelspec": {
   "display_name": "Python 3 (ipykernel)",
   "language": "python",
   "name": "python3"
  },
  "language_info": {
   "codemirror_mode": {
    "name": "ipython",
    "version": 3
   },
   "file_extension": ".py",
   "mimetype": "text/x-python",
   "name": "python",
   "nbconvert_exporter": "python",
   "pygments_lexer": "ipython3",
   "version": "3.10.8"
  }
 },
 "nbformat": 4,
 "nbformat_minor": 5
}
